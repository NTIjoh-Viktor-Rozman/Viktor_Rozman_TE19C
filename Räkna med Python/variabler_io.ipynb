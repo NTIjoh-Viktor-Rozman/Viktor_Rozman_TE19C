{
 "metadata": {
  "language_info": {
   "codemirror_mode": {
    "name": "ipython",
    "version": 3
   },
   "file_extension": ".py",
   "mimetype": "text/x-python",
   "name": "python",
   "nbconvert_exporter": "python",
   "pygments_lexer": "ipython3",
   "version": "3.8.3-final"
  },
  "orig_nbformat": 2,
  "kernelspec": {
   "name": "python_defaultSpec_1599649688876",
   "display_name": "Python 3.8.3 64-bit ('Viktor.rozman': virtualenv)"
  }
 },
 "nbformat": 4,
 "nbformat_minor": 2,
 "cells": [
  {
   "cell_type": "code",
   "execution_count": 6,
   "metadata": {
    "tags": []
   },
   "outputs": [
    {
     "output_type": "stream",
     "name": "stdout",
     "text": "Din tyngdkraft är 491.0N\n"
    }
   ],
   "source": [
    "g = 9.82\n",
    "\n",
    "m = float(input(\"Hur mycket väger du? \"))\n",
    "\n",
    "F = m*g\n",
    "\n",
    "print(f\"Din tyngdkraft är {F:.1f}N\")"
   ]
  },
  {
   "cell_type": "code",
   "execution_count": 11,
   "metadata": {
    "tags": []
   },
   "outputs": [
    {
     "output_type": "stream",
     "name": "stdout",
     "text": "0.65 = 65%\n"
    }
   ],
   "source": [
    "DT = float(input(\"Ange ett Decimaltal: \"))\n",
    "\n",
    "P = DT*100\n",
    "\n",
    "print(f\"{DT} = {P:.0f}%\")"
   ]
  },
  {
   "cell_type": "code",
   "execution_count": 4,
   "metadata": {
    "tags": []
   },
   "outputs": [
    {
     "output_type": "stream",
     "name": "stdout",
     "text": "450.0 Kelvin = 176.85 Celcius\n"
    }
   ],
   "source": [
    "K = float(input(\"Ange en temporatur i Kelvin: \"))\n",
    "\n",
    "C = K-273.15\n",
    "\n",
    "print(f\"{K} Kelvin = {C:.2f} Celcius\")"
   ]
  },
  {
   "cell_type": "code",
   "execution_count": 8,
   "metadata": {
    "tags": []
   },
   "outputs": [
    {
     "output_type": "stream",
     "name": "stdout",
     "text": "176.0 Celsius = 449.15 Kelvin\n"
    }
   ],
   "source": [
    "C = float(input(\"Ange en temporatur i Celsius: \"))\n",
    "\n",
    "K = C+273.15\n",
    "\n",
    "print(f\"{C} Celsius = {K:.2f} Kelvin\")"
   ]
  },
  {
   "cell_type": "code",
   "execution_count": 10,
   "metadata": {
    "tags": []
   },
   "outputs": [
    {
     "output_type": "stream",
     "name": "stdout",
     "text": "Om du betalar varje gång du åker kostar det 1500.0kr\nDet är bättre för dig att köpa månadskort då du tjänar 725.0kr\n"
    }
   ],
   "source": [
    "Mängd = float(input(\"Hur många gånger åker du buss på under en månad? \"))\n",
    "\n",
    "EB = Mängd*30\n",
    "\n",
    "MB = 775\n",
    "\n",
    "print(f\"Om du betalar varje gång du åker kostar det {EB}kr\")\n",
    "\n",
    "\n",
    "if EB > MB:\n",
    "    MBB = EB - MB\n",
    "    print(f\"Det är bättre för dig att köpa månadskort då du tjänar {MBB}kr\")\n",
    "\n",
    "if MB > EB:\n",
    "    EBB = MB - EB\n",
    "    print(f\"Det är bättre för dig att betala varje gång du åker då du tjänar {EBB}kr\")\n",
    "\n",
    "\n",
    "\n"
   ]
  },
  {
   "cell_type": "code",
   "execution_count": 1,
   "metadata": {
    "tags": []
   },
   "outputs": [
    {
     "output_type": "stream",
     "name": "stdout",
     "text": "Du ska nu donera 3934840240.0kr till mig!!!!!!\n"
    }
   ],
   "source": [
    "Bleb = float(input(\"Hur mycket gillar du Bleb?\"))\n",
    "\n",
    "Svar = Bleb * 98371006\n",
    "\n",
    "print(f\"Du ska nu donera {Svar:.0f}kr till mig!!!!!!\")"
   ]
  }
 ]
}