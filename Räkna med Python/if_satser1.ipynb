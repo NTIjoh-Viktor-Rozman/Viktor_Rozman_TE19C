{
 "metadata": {
  "language_info": {
   "codemirror_mode": {
    "name": "ipython",
    "version": 3
   },
   "file_extension": ".py",
   "mimetype": "text/x-python",
   "name": "python",
   "nbconvert_exporter": "python",
   "pygments_lexer": "ipython3",
   "version": "3.8.3-final"
  },
  "orig_nbformat": 2,
  "kernelspec": {
   "name": "python_defaultSpec_1599807861004",
   "display_name": "Python 3.8.3 64-bit ('base': conda)"
  }
 },
 "nbformat": 4,
 "nbformat_minor": 2,
 "cells": [
  {
   "cell_type": "code",
   "execution_count": 7,
   "metadata": {
    "tags": []
   },
   "outputs": [
    {
     "output_type": "stream",
     "name": "stdout",
     "text": "Ditt tal är ett jämt tal\n"
    }
   ],
   "source": [
    "tal = int(input(\"Ange ett heltal: \"))\n",
    "\n",
    "if tal %2 == 0:\n",
    "    print(\"Ditt tal är Jämt\")\n",
    "else:\n",
    "    print(\"Ditt talet är Udda\")"
   ]
  },
  {
   "cell_type": "code",
   "execution_count": 8,
   "metadata": {
    "tags": []
   },
   "outputs": [
    {
     "output_type": "stream",
     "name": "stdout",
     "text": "Din vinkeln är en Spetsig vinkel\n"
    }
   ],
   "source": [
    "vinkel = float(input(\"Ange en vinkel v i grader, där 0 <= v <= 360: \"))\n",
    "\n",
    "if vinkel >= 0 and vinkel < 90:\n",
    "    print(\"Din vinkeln är en Spetsig vinkel\")\n",
    "elif vinkel == 90:\n",
    "    print(\"Din vinkel är en Rät vinkel\")\n",
    "elif vinkel > 90 and vinkel < 180:\n",
    "    print (\"Din vinkel är en Trubbig vinkel\")\n",
    "else:\n",
    "    print(\"Din vinkel är varken Spetsig, Rät eller Trubbig!\")"
   ]
  },
  {
   "cell_type": "code",
   "execution_count": null,
   "metadata": {},
   "outputs": [],
   "source": [
    "# Egen Uppgift\n",
    "\n",
    "# Två olika taxis och du ska välja en av dem\n",
    "\n",
    "# Fråga först om dem vill åka en viss Distans eller Tid\n",
    "\n",
    "# Taxi 1 kostar 30 kronor från start och sedan 2 kronor i minuten. Den har en fart gräns på 80km/h \n",
    "\n",
    "# Taxi 2 kostar 10 kronor från start och sedan 4 kronor i minuten. den har en fart gtäns på 100km/h\n",
    "\n"
   ]
  }
 ]
}