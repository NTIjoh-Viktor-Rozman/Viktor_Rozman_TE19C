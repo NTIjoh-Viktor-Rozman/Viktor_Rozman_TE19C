{
 "metadata": {
  "language_info": {
   "codemirror_mode": {
    "name": "ipython",
    "version": 3
   },
   "file_extension": ".py",
   "mimetype": "text/x-python",
   "name": "python",
   "nbconvert_exporter": "python",
   "pygments_lexer": "ipython3",
   "version": "3.8.3"
  },
  "orig_nbformat": 2,
  "kernelspec": {
   "name": "python383jvsc74a57bd0e0de52fefc1eea06e47954a3c1afb036d972cd8830d7db62b0dad4282e9b357f",
   "display_name": "Python 3.8.3 64-bit ('base': conda)"
  }
 },
 "nbformat": 4,
 "nbformat_minor": 2,
 "cells": [
  {
   "cell_type": "code",
   "execution_count": 25,
   "metadata": {},
   "outputs": [
    {
     "output_type": "stream",
     "name": "stderr",
     "text": [
      "C:\\Users\\Viktor.rozman\\Anaconda3\\lib\\site-packages\\plotly\\graph_objs\\_deprecations.py:378: DeprecationWarning:\n\nplotly.graph_objs.Line is deprecated.\nPlease replace it with one of the following more specific types\n  - plotly.graph_objs.scatter.Line\n  - plotly.graph_objs.layout.shape.Line\n  - etc.\n\n\n"
     ]
    }
   ],
   "source": [
    "import pandas as pd\n",
    "import plotly.express as px \n",
    "from plotly.subplots import make_subplots\n",
    "import plotly.graph_objects as go \n",
    "\n",
    "NTD = pd.read_csv(\"National_Total_Deaths_by_Age_Group.csv\", header=0) # Importerar NTD med pandas\n",
    "\n",
    "NDD = pd.read_csv(\"National_Daily_Deaths.csv\", header=0) # Importerar NDD med pandas\n",
    "\n",
    "\n",
    "fig = make_subplots( # Skapar en subplot som gör det möjligt att ha flera grafer bredvid varann\n",
    "    rows=2, cols=3, # Skapar 2 rader och 3 kolumner\n",
    "    specs=[[{}, {}, {\"type\": \"pie\"}], [{\"colspan\": 3}, None, None]], # Specifika specificationer för subplotten\n",
    "    subplot_titles=(\"Total Cases\",\"Total Deaths\", \"Percentage of Deaths\", \"Deaths per day\") # Namnen på Graferna!\n",
    ")\n",
    "\n",
    "\n",
    "fig.add_trace( # Skapar en graf i subploten\n",
    "    go.Bar(x = NTD[\"Age_Group\"], y = NTD[\"Total_Cases\"], name=\"Cases\"), # Skapar ett stapeldiagram med \"plotly.graph_objects\" där x axeln visar \"Age_Group\" och y axeln visar \"Total_Cases\"\n",
    "    row=1, col=1 # Grafen ska ligga på rad 1 column 1\n",
    ")\n",
    "\n",
    "fig.add_trace( # Skapar en graf i subploten\n",
    "    go.Line(x = NTD[\"Age_Group\"], y = NTD[\"Total_Deaths\"], name=\"Deaths\"), # Skapar ett linjediagram med \"plotly.graph_objects\" där x axeln visar \"Age_Group\" och y axeln visar \"Total_Deaths\"\n",
    "    row=1, col=2 # Grafen ska ligga på rad 1 column 2\n",
    ")\n",
    "\n",
    "fig.add_trace( # Skapar en graf i subploten\n",
    "    go.Pie(values=NTD[\"Total_Deaths\"], labels=NTD[\"Age_Group\"]), # Skapar ett cirkeldiagram med \"plotly.graph_objects\" där jag visar en procentuell andel av hur många som hör dött per oldersgupp till skillnad mot det total mängden döda\n",
    "    row=1, col=3 # Grafen ska ligga på rad 1 column 3\n",
    ")\n",
    "\n",
    "fig.add_trace( # Skapar en graf i subploten\n",
    "    go.Line(x = NDD[\"Date\"], y = NDD[\"National_Daily_Deaths\"], name=\"Deaths\"), # Skapar ett linjediagram med \"plotly.graph_objects\" där x axeln är \"Date\" och y axeln är \"National_Daily_Deaths\"\n",
    "    row=2, col=1 # Grafen ska ligga på rad 2 column 1 (pga specifkation ovan kommer den strecha hella raden)\n",
    ")\n",
    "\n",
    "fig.update_layout(\n",
    "    height=800, width=1250, # Storleken på sidan ska vara 800 hög och 1250 lång (gissar att detta är pixlar)\n",
    "    title_text=\"Corona In Sweden Grafs\",) # Titeln på sidan\n",
    "\n",
    "for i in range (1, 3): # Räknar up värdet på i mellan 1 och 2\n",
    "    fig.update_xaxes(title_text=\"Age Groups\", row=1, col=i) # Sätter x axelns namn till \"Age Group\"\n",
    "    if i == 1: # Kollar om i == 1\n",
    "        fig.update_yaxes(title_text=\"Cases\", row=1, col=i) # Sätter y axelns namn beroände på vad i har för värde\n",
    "    else:\n",
    "        fig.update_yaxes(title_text=\"Deaths\", row=1, col=i) # Sätter y axelns namn beroände på vad i har för värd\n",
    "\n",
    "fig.update_xaxes(title_text=\"Date of Year\", row=2, col=1) # Sätter x axelns namn på sista grafen\n",
    "fig.update_yaxes(title_text=\"Deaths\", row=2, col=1) # Sätter y axelns namn på sista grafen\n",
    "    \n",
    "fig.write_html(\"CodeShit.html\", auto_open=True) # Automatiskt öppnar en sida som visar resultaten\n"
   ]
  }
 ]
}