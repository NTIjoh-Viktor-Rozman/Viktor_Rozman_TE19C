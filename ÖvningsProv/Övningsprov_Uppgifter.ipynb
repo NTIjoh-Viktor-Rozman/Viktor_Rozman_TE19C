{
 "metadata": {
  "language_info": {
   "codemirror_mode": {
    "name": "ipython",
    "version": 3
   },
   "file_extension": ".py",
   "mimetype": "text/x-python",
   "name": "python",
   "nbconvert_exporter": "python",
   "pygments_lexer": "ipython3",
   "version": "3.8.3-final"
  },
  "orig_nbformat": 2,
  "kernelspec": {
   "name": "python3",
   "display_name": "Python 3",
   "language": "python"
  }
 },
 "nbformat": 4,
 "nbformat_minor": 2,
 "cells": [
  {
   "source": [
    "Uppgift 1"
   ],
   "cell_type": "markdown",
   "metadata": {}
  },
  {
   "cell_type": "code",
   "execution_count": null,
   "metadata": {},
   "outputs": [],
   "source": [
    "\n",
    "# Rad 1 = Hur många fåglar det finns från början #\n",
    "# Rad 2 = Hur många år det finns från början #\n",
    "# Rad 3 = Medans fåglar är mindre är 800 händer detta #\n",
    "# Rad 4 = Lägg till 1 till år #\n",
    "# Rad 5 = Dela antalet fåglar med två #\n",
    "# Rad 6 = Printa ut hur många fåglar det finns vid ett specifikt år #\n"
   ]
  },
  {
   "source": [
    "Uppgift 2"
   ],
   "cell_type": "markdown",
   "metadata": {}
  },
  {
   "cell_type": "code",
   "execution_count": 3,
   "metadata": {},
   "outputs": [
    {
     "output_type": "stream",
     "name": "stdout",
     "text": [
      "4\n"
     ]
    }
   ],
   "source": []
  },
  {
   "source": [
    "Uppgift 3"
   ],
   "cell_type": "markdown",
   "metadata": {}
  },
  {
   "cell_type": "code",
   "execution_count": 11,
   "metadata": {},
   "outputs": [
    {
     "output_type": "stream",
     "name": "stdout",
     "text": [
      "3.0\n"
     ]
    }
   ],
   "source": [
    "def f(x, y, z):\n",
    "    return(x + y + z)/3\n",
    "\n",
    "print(f(1, 3, 5))"
   ]
  },
  {
   "source": [
    "Uppgift 4"
   ],
   "cell_type": "markdown",
   "metadata": {}
  },
  {
   "cell_type": "code",
   "execution_count": 18,
   "metadata": {},
   "outputs": [
    {
     "output_type": "stream",
     "name": "stdout",
     "text": [
      "113.09733552923255\n"
     ]
    }
   ],
   "source": [
    "import math\n",
    "\n",
    "r = int(input(\"Ange en radie: \"))\n",
    "\n",
    "def f(x):\n",
    "    return(4 * math.pi * r**3)/3\n",
    "\n",
    "print(f(r))"
   ]
  },
  {
   "source": [
    "Uppgift 5"
   ],
   "cell_type": "markdown",
   "metadata": {}
  },
  {
   "cell_type": "code",
   "execution_count": 22,
   "metadata": {},
   "outputs": [
    {
     "output_type": "stream",
     "name": "stdout",
     "text": [
      "8\n"
     ]
    }
   ],
   "source": [
    "Mening = input(\"Skriv en mening: \")\n",
    "\n",
    "Mening = Mening.split()\n",
    "print(len(Mening))"
   ]
  },
  {
   "source": [
    "Uppgift 6"
   ],
   "cell_type": "markdown",
   "metadata": {}
  },
  {
   "cell_type": "code",
   "execution_count": 8,
   "metadata": {},
   "outputs": [
    {
     "output_type": "stream",
     "name": "stdout",
     "text": [
      "Du fick fel!\nHär är svaret = [1, 2, 3, 4, 5, 6, 7, 8, 9, 10]\n \n \n[1, 2, 3, 4, 5, 6, 7, 8, 9, 10]\n[1, 1, 1, 1, 1, 1, 1, 1, 1, 1]\n"
     ]
    }
   ],
   "source": [
    "Tal = int(input(\"Ange gångertabellen du vill träna på: \"))\n",
    "Lista = []\n",
    "lista = []\n",
    "\n",
    "for i in range(1, 11):\n",
    "    Tal2 = int(input(f\"Vad är {i} x {Tal}\"))\n",
    "    lista.append(Tal2)\n",
    "\n",
    "for x in range(1, 11):\n",
    "    svar = x * Tal\n",
    "    Lista.append(svar)\n",
    "\n",
    "if Lista == lista:\n",
    "    print(\"Du fick alla rätt!\")\n",
    "else:\n",
    "    print(\"Du fick fel!\")\n",
    "    print(f\"Här är svaret = {Lista}\")\n",
    "\n",
    "print(\" \\n \")\n",
    "print(Lista)\n",
    "print(lista)"
   ]
  },
  {
   "source": [
    "Uppgift 7"
   ],
   "cell_type": "markdown",
   "metadata": {}
  },
  {
   "cell_type": "code",
   "execution_count": 58,
   "metadata": {},
   "outputs": [
    {
     "output_type": "stream",
     "name": "stdout",
     "text": [
      "1633\n"
     ]
    }
   ],
   "source": [
    "import random \n",
    "\n",
    "x = 0\n",
    "\n",
    "for i in range(10000):\n",
    "    kast = random.randint(1,6)\n",
    "    if kast == 5:\n",
    "        x += 1\n",
    "\n",
    "print(x)"
   ]
  },
  {
   "source": [
    "Uppgift 8"
   ],
   "cell_type": "markdown",
   "metadata": {}
  },
  {
   "cell_type": "code",
   "execution_count": 12,
   "metadata": {},
   "outputs": [
    {
     "output_type": "stream",
     "name": "stdout",
     "text": [
      "3 tusenlappar, 1 femhundralappar, 1 tvåhundralappar, 1 hundralappar, 1 femtiolappar, 2 tjugolappar, 0 tiokronor, 1 femkronor, 4 enkronor, "
     ]
    }
   ],
   "source": [
    "def växla(summa):\n",
    "    kontanter = [1000, 500, 200, 100, 50, 20, 10, 5, 1]\n",
    "    sedlar = [\"tusenlappar\", \"femhundralappar\", \"tvåhundralappar\", \"hundralappar\", \"femtiolappar\", \"tjugolappar\", \"tiokronor\", \"femkronor\", \"enkronor\"]\n",
    "\n",
    "    for i in range(len(kontanter)):\n",
    "        antal = summa//kontanter[i]\n",
    "        summa %= kontanter[i]\n",
    "        print(f\"{antal} {sedlar[i]}\", end=\", \")\n",
    "\n",
    "\n",
    "växla(3899)"
   ]
  },
  {
   "cell_type": "code",
   "execution_count": 11,
   "metadata": {},
   "outputs": [
    {
     "output_type": "stream",
     "name": "stdout",
     "text": [
      "1 st Kreditkort\n"
     ]
    }
   ],
   "source": [
    "float(input(\"Ange ett tal\"))\n",
    "\n",
    "print(\"1 st Kreditkort\")"
   ]
  },
  {
   "cell_type": "code",
   "execution_count": 38,
   "metadata": {},
   "outputs": [
    {
     "output_type": "stream",
     "name": "stdout",
     "text": [
      "[1]\n[1, 1]\n[1, 2, 1]\n[1, 3, 3, 1]\n[1, 4, 6, 4, 1]\n[1, 5, 10, 10, 5, 1]\n[1, 6, 15, 20, 15, 6, 1]\n6\n"
     ]
    }
   ],
   "source": [
    "n = int(input(\"Ange ett n värde: \"))\n",
    "List = [1]\n",
    "print(List)\n",
    "\n",
    "for i in range(0, n):\n",
    "    List2 = [1]\n",
    "    for j in range(0, len(List)-1):\n",
    "        List2.append(List[j]+List[j+1])\n",
    "    List2.append(1)\n",
    "    print(List2)\n",
    "    List = List2 \n",
    "\n",
    "    List = List2 \n",
    "\n",
    "print(n)"
   ]
  },
  {
   "source": [
    "Uppgift 10"
   ],
   "cell_type": "markdown",
   "metadata": {}
  },
  {
   "cell_type": "code",
   "execution_count": 1,
   "metadata": {},
   "outputs": [],
   "source": [
    "import random as rnd\n",
    "\n",
    "\n",
    "def skapaKortlek():\n",
    "    kortnummer = [i for i in range(2, 11)]\n",
    "    klädkort = [\"J\", \"Q\", \"K\", \"A\"]\n",
    "    kortnummer += klädkort\n",
    "    lek = kortnummer*4  # färg spelar ingen roll i blackjack\n",
    "\n",
    "    blandaKortlek(lek)\n",
    "    return lek\n",
    "\n",
    "\n",
    "def blandaKortlek(lek):\n",
    "    return rnd.shuffle(lek)"
   ]
  },
  {
   "cell_type": "code",
   "execution_count": null,
   "metadata": {},
   "outputs": [],
   "source": [
    "import kortlek\n",
    "\n",
    "\n",
    "def skrivUtHand(hand):\n",
    "    print(\"Dina kort är: \", end=\"\")\n",
    "    for kort in hand:\n",
    "        print(str(kort) + \", \", end=\"\")\n",
    "\n",
    "\n",
    "def räknaPoäng(hand):\n",
    "    poäng = 0\n",
    "    for kort in hand:\n",
    "        if kort == \"J\" or kort == \"Q\" or kort == \"K\":\n",
    "            poäng += 10\n",
    "        elif kort == \"A\" and poäng < 11:\n",
    "            poäng += 11\n",
    "        elif kort == \"A\" and poäng >= 11:\n",
    "            poäng += 1\n",
    "        else:\n",
    "            poäng += kort\n",
    "    return poäng\n",
    "\n",
    "\n",
    "def checkaVinnare(hand, dealer):\n",
    "    dealerPoäng = räknaPoäng(dealer)\n",
    "    spelare1Poäng = räknaPoäng(hand)\n",
    "\n",
    "    print(f\"Dealerns kort är {dealer[0]} och {dealer[1]}\")\n",
    "    print(f\"Dealerns totala poäng: {dealerPoäng}\")\n",
    "    print(f\"Spelare1 totala poäng: {spelare1Poäng}\")\n",
    "\n",
    "    if spelare1Poäng == 21:\n",
    "        print(\"Blackjack, du vinner\")\n",
    "    elif spelare1Poäng <= dealerPoäng or spelare1Poäng > 21:\n",
    "        print(\"Dealern tar dina pengar\")\n",
    "    else:\n",
    "        print(\"Du vinner\")\n",
    "\n",
    "\n",
    "# spel-loop\n",
    "def spel_loop():\n",
    "    while True:\n",
    "        spela = input(\n",
    "            \"Vill du spela? (j för ja, valfri tangent för att avsluta)\")\n",
    "\n",
    "        if spela != \"j\":\n",
    "            break\n",
    "        lek = kortlek.skapaKortlek()\n",
    "        # dealer tar två kort\n",
    "        dealer = [lek.pop(0), lek.pop(0)]\n",
    "\n",
    "        print(f\"Dealerns första kort är {dealer[0]}\")\n",
    "\n",
    "        hand = [lek.pop(0), lek.pop(0)]\n",
    "\n",
    "        print(f\"Dina första två kort är {hand[0]} och {hand[1]}\")\n",
    "\n",
    "        fortsätt = True\n",
    "\n",
    "        # omgång\n",
    "        while fortsätt:\n",
    "            # fråga om användaren vill ta ett till kort\n",
    "            taKort = input(\"Ta nytt kort? (j för ja, annan tangent för nej)\")\n",
    "\n",
    "            if taKort == \"j\" and räknaPoäng(hand) <= 21:\n",
    "                # dela ut kort\n",
    "                hand.append(lek.pop(0))\n",
    "                skrivUtHand(hand)\n",
    "            else:\n",
    "                fortsätt = False  # avsluta spelet\n",
    "\n",
    "        checkaVinnare(hand, dealer)\n",
    "\n",
    "\n",
    "if __name__ == \"__main__\":\n",
    "    spel_loop()"
   ]
  }
 ]
}