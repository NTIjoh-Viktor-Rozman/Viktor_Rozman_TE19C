{
 "metadata": {
  "language_info": {
   "codemirror_mode": {
    "name": "ipython",
    "version": 3
   },
   "file_extension": ".py",
   "mimetype": "text/x-python",
   "name": "python",
   "nbconvert_exporter": "python",
   "pygments_lexer": "ipython3",
   "version": "3.8.3-final"
  },
  "orig_nbformat": 2,
  "kernelspec": {
   "name": "Python 3.8.3 64-bit ('base': conda)",
   "display_name": "Python 3.8.3 64-bit ('base': conda)",
   "metadata": {
    "interpreter": {
     "hash": "e0de52fefc1eea06e47954a3c1afb036d972cd8830d7db62b0dad4282e9b357f"
    }
   }
  }
 },
 "nbformat": 4,
 "nbformat_minor": 2,
 "cells": [
  {
   "cell_type": "code",
   "execution_count": 5,
   "metadata": {
    "tags": []
   },
   "outputs": [
    {
     "output_type": "stream",
     "name": "stdout",
     "text": "1 + 2 + 3 + ... + 99 + 100 = 5050\n"
    }
   ],
   "source": [
    "tal = 0\n",
    "num = 0\n",
    "\n",
    "while tal < 101:\n",
    "    num += tal\n",
    "    tal += 1\n",
    "\n",
    "print(f\"1 + 2 + 3 + ... + 99 + 100 = {num}\")\n"
   ]
  },
  {
   "cell_type": "code",
   "execution_count": 8,
   "metadata": {
    "tags": []
   },
   "outputs": [
    {
     "output_type": "stream",
     "name": "stdout",
     "text": "1 + 3 + 5 + ... 97 + 99 = 2500\n"
    }
   ],
   "source": [
    "tal = 1 \n",
    "num = 0\n",
    "\n",
    "while tal < 100:\n",
    "    num += tal\n",
    "    tal += 2\n",
    "\n",
    "print(f\"1 + 3 + 5 + ... 97 + 99 = {num}\")\n"
   ]
  },
  {
   "cell_type": "code",
   "execution_count": 23,
   "metadata": {
    "tags": []
   },
   "outputs": [
    {
     "output_type": "stream",
     "name": "stdout",
     "text": "1.9990234375\n"
    }
   ],
   "source": [
    "s = tal2 + 1\n",
    "tal = 1\n",
    "faktor = 0.5\n",
    "\n",
    "n = 10\n",
    "tal2 = 1/2**n\n",
    "\n",
    "while tal > tal2:\n",
    "    tal *= faktor\n",
    "    s += tal\n",
    "\n",
    "print(s)\n"
   ]
  }
 ]
}