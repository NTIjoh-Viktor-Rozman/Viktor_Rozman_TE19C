{
 "metadata": {
  "language_info": {
   "codemirror_mode": {
    "name": "ipython",
    "version": 3
   },
   "file_extension": ".py",
   "mimetype": "text/x-python",
   "name": "python",
   "nbconvert_exporter": "python",
   "pygments_lexer": "ipython3",
   "version": "3.8.3-final"
  },
  "orig_nbformat": 2,
  "kernelspec": {
   "name": "python_defaultSpec_1600411178323",
   "display_name": "Python 3.8.3 64-bit ('base': conda)"
  }
 },
 "nbformat": 4,
 "nbformat_minor": 2,
 "cells": [
  {
   "cell_type": "code",
   "execution_count": 47,
   "metadata": {
    "tags": []
   },
   "outputs": [
    {
     "output_type": "stream",
     "name": "stdout",
     "text": "Eleven Bleb fick 29 poäng vilket ger betyg F.\n"
    }
   ],
   "source": [
    "import random as rnd\n",
    "\n",
    "points = rnd.randint(0,65)\n",
    "\n",
    "Class = [\"Bleb\",\"OOF\",\"Meh\",\"LOL\",\"HEHE\",\"LEL\"]\n",
    "\n",
    "if points <= 30:\n",
    "    Betyg = \"F\"\n",
    "elif points <= 40:\n",
    "    Betyg = \"E\"\n",
    "elif points <= 50:\n",
    "    Betyg = \"D\"\n",
    "elif points <= 55:\n",
    "    Betyg = \"C\"\n",
    "elif points <= 60:\n",
    "    Betyg = \"B\"\n",
    "else:\n",
    "    Betyg = \"A\"\n",
    "\n",
    "elev = rnd.choice(Class)\n",
    "\n",
    "print(f\"Eleven {elev} fick {points} poäng vilket ger betyg {Betyg}.\")\n"
   ]
  },
  {
   "cell_type": "code",
   "execution_count": null,
   "metadata": {},
   "outputs": [],
   "source": [
    "if points > 60:\n",
    "    Betyg = \"A\"\n",
    "elif points <= 60 and points >= 56:\n",
    "    Betyg = \"B\"\n",
    "elif points <= 55 and points >= 51:\n",
    "    Betyg = \"C\"\n",
    "elif points <= 50 and points >= 41:\n",
    "    Betyg = \"D\"\n",
    "elif points <= 40 and points >= 31:\n",
    "    Betyg = \"E\"\n",
    "else:\n",
    "    Betyg = \"F\""
   ]
  }
 ]
}