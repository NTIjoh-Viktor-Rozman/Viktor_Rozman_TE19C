{
 "metadata": {
  "language_info": {
   "codemirror_mode": {
    "name": "ipython",
    "version": 3
   },
   "file_extension": ".py",
   "mimetype": "text/x-python",
   "name": "python",
   "nbconvert_exporter": "python",
   "pygments_lexer": "ipython3",
   "version": "3.8.3-final"
  },
  "orig_nbformat": 2,
  "kernelspec": {
   "name": "Python 3.8.3 64-bit ('base': conda)",
   "display_name": "Python 3.8.3 64-bit ('base': conda)",
   "metadata": {
    "interpreter": {
     "hash": "e0de52fefc1eea06e47954a3c1afb036d972cd8830d7db62b0dad4282e9b357f"
    }
   }
  }
 },
 "nbformat": 4,
 "nbformat_minor": 2,
 "cells": [
  {
   "cell_type": "code",
   "execution_count": 6,
   "metadata": {
    "tags": []
   },
   "outputs": [
    {
     "output_type": "stream",
     "name": "stdout",
     "text": "Ditt tal är negativt\n"
    }
   ],
   "source": [
    "# Uppgift 1 \n",
    "\n",
    "tal = float(input(\"Ange ett Tal: \"))\n",
    "\n",
    "if tal == 0:\n",
    "    print(\"Ditt tal är 0\")\n",
    "elif tal < 0:\n",
    "    print(\"Ditt tal är negativt\")\n",
    "else:\n",
    "    print(\"Ditt tal är positivt\")\n"
   ]
  },
  {
   "cell_type": "code",
   "execution_count": 13,
   "metadata": {
    "tags": []
   },
   "outputs": [
    {
     "output_type": "stream",
     "name": "stdout",
     "text": "Ditt tal är Udda\n"
    }
   ],
   "source": [
    "# Uppgift 2 #\n",
    "\n",
    "tal = float(input(\"Ange ett Tal: \"))\n",
    "\n",
    "if tal %5 == 0:\n",
    "    print(\"Ditt tal är delbart med 5\")\n",
    "elif tal %2 == 0:\n",
    "    print (\"Ditt tal är Jämnt\")\n",
    "elif tal %2 == 1:\n",
    "    print(\"Ditt tal är Udda\")\n"
   ]
  },
  {
   "cell_type": "code",
   "execution_count": 18,
   "metadata": {
    "tags": []
   },
   "outputs": [
    {
     "output_type": "stream",
     "name": "stdout",
     "text": "6 är de större av de två talen du angivit\n"
    }
   ],
   "source": [
    "# Uppgift 3 #\n",
    "\n",
    "tal1 = float(input(\"Ange ett Tal: \"))\n",
    "tal2 = float(input(\"Ange ett till Tal: \"))\n",
    "\n",
    "skillnad = tal1 - tal2\n",
    "\n",
    "if skillnad < 0:\n",
    "    print(f\"{tal2:.0f} är de större av de två talen du angivit\")\n",
    "elif skillnad > 0:\n",
    "    print(f\"{tal1:.0f} är de större av de två talen du angivit\")\n",
    " "
   ]
  },
  {
   "cell_type": "code",
   "execution_count": 33,
   "metadata": {
    "tags": []
   },
   "outputs": [
    {
     "output_type": "stream",
     "name": "stdout",
     "text": "Din vinkel är fysiskt omöjlig!!\n"
    }
   ],
   "source": [
    "# Uppgift 4 #\n",
    "\n",
    "V = float(input(\"Ange en vinkel: \"))\n",
    "\n",
    "if V < 0 or V == 0:\n",
    "    print(\"Din vinkel är fysiskt omöjlig!!\")\n",
    "elif V > 0 and V < 90:\n",
    "    print(\"Din vinkel är Spetsig\")\n",
    "elif V == 90:\n",
    "    print(\"Din vinkel är Rät\")\n",
    "elif V < 180:\n",
    "    print(\"Din vinkel är Trubbig\")\n",
    "elif V == 180:\n",
    "    print(\"Din vinkel är Rak\")\n",
    "elif V < 360:\n",
    "    print(\"Din vinkel är Konvex\")\n",
    "elif V == 360:\n",
    "    print(\"Din vinkel är Hel\")\n",
    "else:\n",
    "    print(\"Din vinkel är fysiskt omöjlig!!\")\n"
   ]
  },
  {
   "cell_type": "code",
   "execution_count": 38,
   "metadata": {
    "tags": []
   },
   "outputs": [
    {
     "output_type": "stream",
     "name": "stdout",
     "text": "ERROR\nAN ERROR HAS OCCORED\nCode: 404\n"
    }
   ],
   "source": [
    "# Uppgift 5 #\n",
    "\n",
    "import math\n",
    "\n",
    "r = float(input(\"Ange en radie till en cirkel i centimeter (cm): \"))\n",
    "\n",
    "d = r*2\n",
    "\n",
    "if r < 0:\n",
    "    print(\"ERROR\")\n",
    "    print(\"AN ERROR HAS OCCORED\")\n",
    "    print(\"Code: 404\")\n",
    "elif r > 0:\n",
    "    O = d * math.pi\n",
    "    A = r * r * math.pi\n",
    "    print(f\"Area = {A:.2f}cm\")\n",
    "    print(f\"Omkräts = {O:.2f}cm^2\")\n",
    "    "
   ]
  },
  {
   "cell_type": "code",
   "execution_count": 40,
   "metadata": {
    "tags": []
   },
   "outputs": [
    {
     "output_type": "stream",
     "name": "stdout",
     "text": "Du har inte en rät vinkel i din triangel.\n"
    }
   ],
   "source": [
    "# Uppgift 6 #\n",
    "\n",
    "V1 = float(input(\"Ange en vinkel i en triangel: \"))\n",
    "V2 = float(input(\"Ange en till vinkel i en triangel: \"))\n",
    "V3 = float(input(\"Ange en tredje vinkel i en triangel: \"))\n",
    "\n",
    "if V1 == 90:\n",
    "    print(\"Du har en rät vinkel i din triangel.\")\n",
    "elif V2 == 90:\n",
    "    print(\"Du har en rät vinkel i din triangel.\")\n",
    "elif V3 == 90:\n",
    "    print(\"Du har en rät vinkel i din triangel.\")\n",
    "else:\n",
    "    print(\"Du har inte en rät vinkel i din triangel.\")\n",
    "    "
   ]
  },
  {
   "cell_type": "code",
   "execution_count": 46,
   "metadata": {
    "tags": []
   },
   "outputs": [
    {
     "output_type": "stream",
     "name": "stdout",
     "text": "Din kordinat ligger i Origo\n"
    }
   ],
   "source": [
    "# Uppgift 7 #\n",
    "\n",
    "x = float(input(\"Ange en x kordiant: \"))\n",
    "y = float(input(\"Ange en y kordinat: \"))\n",
    "\n",
    "if x > 0 and y > 0:\n",
    "    print(\"Din kordinat ligger i Kvadrat 1\")\n",
    "elif x > 0 and y < 0:\n",
    "    print(\"Din kordinat ligger i Kvadrat 2\")\n",
    "elif x < 0 and y > 0:\n",
    "    print(\"Din kordinat ligger i Kvadrat 3\")\n",
    "elif x < 0 and y < 0:\n",
    "    print(\"Din kordinat ligger i Kvadrat 4\")\n",
    "elif x == 0 and y == 0:\n",
    "    print(\"Din kordinat ligger i Origo\")\n",
    "    \n"
   ]
  },
  {
   "cell_type": "code",
   "execution_count": 1,
   "metadata": {
    "tags": []
   },
   "outputs": [
    {
     "output_type": "stream",
     "name": "stdout",
     "text": "Hej\n"
    }
   ],
   "source": [
    "print(\"Hej\")"
   ]
  }
 ]
}