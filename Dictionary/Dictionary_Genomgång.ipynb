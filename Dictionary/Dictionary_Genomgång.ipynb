{
 "metadata": {
  "language_info": {
   "codemirror_mode": {
    "name": "ipython",
    "version": 3
   },
   "file_extension": ".py",
   "mimetype": "text/x-python",
   "name": "python",
   "nbconvert_exporter": "python",
   "pygments_lexer": "ipython3",
   "version": "3.8.3-final"
  },
  "orig_nbformat": 2,
  "kernelspec": {
   "name": "python3",
   "display_name": "Python 3.8.3 64-bit ('Viktor.rozman': virtualenv)",
   "metadata": {
    "interpreter": {
     "hash": "e0de52fefc1eea06e47954a3c1afb036d972cd8830d7db62b0dad4282e9b357f"
    }
   }
  }
 },
 "nbformat": 4,
 "nbformat_minor": 2,
 "cells": [
  {
   "cell_type": "code",
   "execution_count": 3,
   "metadata": {},
   "outputs": [
    {
     "output_type": "stream",
     "name": "stdout",
     "text": [
      "Viktor är Hemlös och jobbar på Bänk\n"
     ]
    }
   ],
   "source": [
    "person = dict(\n",
    "    namn = \"Viktor\",\n",
    "    ålder = \"3\",\n",
    "    yrke = \"Hemlös\",\n",
    "    arbetsplats = \"Bänk\"\n",
    ")\n",
    "\n",
    "print(f\"{person['namn']} är {person['yrke']} och jobbar på {person['arbetsplats']}\")"
   ]
  },
  {
   "cell_type": "code",
   "execution_count": null,
   "metadata": {},
   "outputs": [],
   "source": []
  }
 ]
}