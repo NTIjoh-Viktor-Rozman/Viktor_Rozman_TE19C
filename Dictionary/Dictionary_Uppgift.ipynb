{
 "metadata": {
  "language_info": {
   "codemirror_mode": {
    "name": "ipython",
    "version": 3
   },
   "file_extension": ".py",
   "mimetype": "text/x-python",
   "name": "python",
   "nbconvert_exporter": "python",
   "pygments_lexer": "ipython3",
   "version": "3.8.3-final"
  },
  "orig_nbformat": 2,
  "kernelspec": {
   "name": "python3",
   "display_name": "Python 3.8.3 64-bit (conda)",
   "metadata": {
    "interpreter": {
     "hash": "e0de52fefc1eea06e47954a3c1afb036d972cd8830d7db62b0dad4282e9b357f"
    }
   }
  }
 },
 "nbformat": 4,
 "nbformat_minor": 2,
 "cells": [
  {
   "source": [
    "# Uppgift 1"
   ],
   "cell_type": "markdown",
   "metadata": {}
  },
  {
   "cell_type": "code",
   "execution_count": 37,
   "metadata": {},
   "outputs": [
    {
     "output_type": "stream",
     "name": "stdout",
     "text": [
      "750\n"
     ]
    }
   ],
   "source": [
    "Kurser = dict(\n",
    "    programmering = 100,\n",
    "    webbutveckling = 100,\n",
    "    svenska = 100,\n",
    "    engelska = 100,\n",
    "    matte = 100,\n",
    "    fysik = 150,\n",
    "    idrott = 50,\n",
    "    daodac = 100\n",
    ")\n",
    "\n",
    "poäng = 0\n",
    "\n",
    "for key in Kurser :\n",
    "    poäng += Kurser[key]\n",
    "print(poäng)"
   ]
  },
  {
   "source": [
    "# Uppgift 2"
   ],
   "cell_type": "markdown",
   "metadata": {}
  },
  {
   "cell_type": "code",
   "execution_count": 36,
   "metadata": {},
   "outputs": [
    {
     "output_type": "stream",
     "name": "stdout",
     "text": [
      "ettor  \t : \t 16828\ntvåor  \t : \t 16641\ntreor  \t : \t 16673\nfyror  \t : \t 16534\nfemor  \t : \t 16555\nsexor  \t : \t 16769\n"
     ]
    }
   ],
   "source": [
    "import random\n",
    "\n",
    "nummer = dict(\n",
    "    ettor = 0,\n",
    "    tvåor = 0,\n",
    "    treor = 0,\n",
    "    fyror = 0,\n",
    "    femor = 0,\n",
    "    sexor = 0\n",
    ")\n",
    "\n",
    "for i in range(100000):\n",
    "    kast = random.randint(1,6)\n",
    "    if kast == 1:\n",
    "        nummer[\"ettor\"] += 1\n",
    "    elif kast == 2:\n",
    "        nummer[\"tvåor\"] += 1\n",
    "    elif kast == 3:\n",
    "        nummer[\"treor\"] += 1\n",
    "    elif kast == 4:\n",
    "        nummer[\"fyror\"] += 1\n",
    "    elif kast == 5:\n",
    "        nummer[\"femor\"] += 1\n",
    "    else:\n",
    "        nummer[\"sexor\"] += 1\n",
    "\n",
    "for key, value in nummer.items():\n",
    "    print(f\"{key}  \\t : \\t {value}\")\n"
   ]
  },
  {
   "source": [
    "# Uppgift 3"
   ],
   "cell_type": "markdown",
   "metadata": {}
  },
  {
   "cell_type": "code",
   "execution_count": 1,
   "metadata": {},
   "outputs": [
    {
     "output_type": "stream",
     "name": "stdout",
     "text": [
      "Typ: Elektrisk, index: 25\n"
     ]
    }
   ],
   "source": [
    "with open(\"pokemonlista.txt\", \"r\") as p1:\n",
    "    pokedex = dict()\n",
    "    for rad in p1:\n",
    "        rad = rad.strip(\"\\n\")\n",
    "        x = (rad.split(\" \"))\n",
    "        y = f\"Typ: {x[2]}, index: {x[0]}\"\n",
    "        pokedex[x[1]] = y\n",
    "\n",
    "svar = input(\"Vilken Pokemon vill du söka upp : \")\n",
    "\n",
    "print(f\"{pokedex[svar]}\")"
   ]
  },
  {
   "source": [
    "# Uppgift 4"
   ],
   "cell_type": "markdown",
   "metadata": {}
  },
  {
   "cell_type": "code",
   "execution_count": 2,
   "metadata": {},
   "outputs": [
    {
     "output_type": "stream",
     "name": "stdout",
     "text": [
      ".... . .-.. .-.. --- "
     ]
    }
   ],
   "source": [
    "morse = {}\n",
    "\n",
    "with open(\"morse.txt\", \"r\") as f1:\n",
    "    for rad in f1:\n",
    "        rad = rad.replace(':', '')\n",
    "        rad = rad.strip(\"\\n\")\n",
    "        x = (rad.split(\" \"))\n",
    "        morse[x[0]] = x[1]\n",
    "\n",
    "text = input(\"Ange ditt meddelande : \")\n",
    "\n",
    "for char in text:\n",
    "    print(f\"{morse[char.upper()]}\", end=\" \")"
   ]
  },
  {
   "cell_type": "code",
   "execution_count": null,
   "metadata": {},
   "outputs": [],
   "source": []
  }
 ]
}