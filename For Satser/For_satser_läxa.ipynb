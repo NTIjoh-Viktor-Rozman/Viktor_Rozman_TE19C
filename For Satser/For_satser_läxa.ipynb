{
 "metadata": {
  "language_info": {
   "codemirror_mode": {
    "name": "ipython",
    "version": 3
   },
   "file_extension": ".py",
   "mimetype": "text/x-python",
   "name": "python",
   "nbconvert_exporter": "python",
   "pygments_lexer": "ipython3",
   "version": "3.8.3-final"
  },
  "orig_nbformat": 2,
  "kernelspec": {
   "name": "Python 3.8.3 64-bit ('base': conda)",
   "display_name": "Python 3.8.3 64-bit ('base': conda)",
   "metadata": {
    "interpreter": {
     "hash": "e0de52fefc1eea06e47954a3c1afb036d972cd8830d7db62b0dad4282e9b357f"
    }
   }
  }
 },
 "nbformat": 4,
 "nbformat_minor": 2,
 "cells": [
  {
   "cell_type": "code",
   "execution_count": 19,
   "metadata": {
    "tags": []
   },
   "outputs": [
    {
     "output_type": "stream",
     "name": "stdout",
     "text": "1 2 3 4 5 6 7 8 9 10  \n \n-10 -9 -8 -7 -6 -5 -4 -3 -2 -1 0 1 2 3 4 5 6 7 8 9 10  \n \n10 9 8 7 6 5 4 3 2 1 0"
    }
   ],
   "source": [
    "# Uppgift 1 #\n",
    "\n",
    "# A #\n",
    "\n",
    "for i in range(1,11):\n",
    "    print(i, end =\" \")\n",
    "\n",
    "print(\" \\n \")\n",
    "\n",
    "# B #\n",
    "\n",
    "for j in range(-10,11):\n",
    "    print(j, end =\" \")\n",
    "\n",
    "print(\" \\n \")\n",
    "\n",
    "# C #\n",
    "\n",
    "for o in range(10,-1,-1):\n",
    "    print(o, end =\" \")\n"
   ]
  },
  {
   "cell_type": "code",
   "execution_count": 1,
   "metadata": {
    "tags": []
   },
   "outputs": [
    {
     "output_type": "stream",
     "name": "stdout",
     "text": "OOF\n"
    }
   ],
   "source": [
    "# Uppgift 2 #\n",
    "\n",
    "print(\"OOF\")\n"
   ]
  },
  {
   "cell_type": "code",
   "execution_count": 23,
   "metadata": {
    "tags": []
   },
   "outputs": [
    {
     "output_type": "stream",
     "name": "stdout",
     "text": "1 + 2 + 3 + 4 ... + 99 + 100 = 5050\n"
    }
   ],
   "source": [
    "# Uppgift 3 #\n",
    "\n",
    "num = 0\n",
    "\n",
    "for i in range(101):\n",
    "    num += i \n",
    "\n",
    "print(f\"1 + 2 + 3 + 4 ... + 99 + 100 = {num}\")\n"
   ]
  },
  {
   "cell_type": "code",
   "execution_count": 32,
   "metadata": {
    "tags": []
   },
   "outputs": [
    {
     "output_type": "stream",
     "name": "stdout",
     "text": "1 + 3 + 5 ... + 97 + 99 = 2500\n"
    }
   ],
   "source": [
    "# Uppgift 4 #\n",
    "\n",
    "num = 0\n",
    "\n",
    "for i in range(1,101,2):\n",
    "    num += i\n",
    "\n",
    "print(f\"1 + 3 + 5 ... + 97 + 99 = {num}\")\n"
   ]
  },
  {
   "cell_type": "code",
   "execution_count": 1,
   "metadata": {
    "tags": []
   },
   "outputs": [
    {
     "output_type": "stream",
     "name": "stdout",
     "text": "0 5 10 15 20 25 30 35 40 45 50  \n \n0 5 10 15 20 25 30 35 40 45 "
    }
   ],
   "source": [
    "# Uppgift 5 #\n",
    "\n",
    "# A #\n",
    "\n",
    "for i in range(0,51,5):\n",
    "    print(i, end = \" \")\n",
    "\n",
    "\n",
    "print(\" \\n \")\n",
    "\n",
    "# B #\n",
    "\n",
    "Tabel = int(input(\"Ange en gångertabel du vill se: \"))\n",
    "start = int(input(\"Ange vart du vill att din tabel ska börja: \"))\n",
    "slut = int(input(\"Ange vart du vill att din tabel ska sluta: \"))\n",
    "\n",
    "for i in range(start,slut,Tabel):\n",
    "    print(i, end = \" \")\n",
    "\n",
    "\n",
    "print(\" \\n \")\n",
    "\n",
    "# C #\n",
    "\n"
   ]
  },
  {
   "cell_type": "code",
   "execution_count": null,
   "metadata": {},
   "outputs": [],
   "source": [
    "# Uppgift 6 #\n",
    "\n"
   ]
  }
 ]
}