{
 "metadata": {
  "language_info": {
   "codemirror_mode": {
    "name": "ipython",
    "version": 3
   },
   "file_extension": ".py",
   "mimetype": "text/x-python",
   "name": "python",
   "nbconvert_exporter": "python",
   "pygments_lexer": "ipython3",
   "version": "3.8.3-final"
  },
  "orig_nbformat": 2,
  "kernelspec": {
   "name": "python_defaultSpec_1600861126990",
   "display_name": "Python 3.8.3 64-bit ('base': conda)"
  }
 },
 "nbformat": 4,
 "nbformat_minor": 2,
 "cells": [
  {
   "cell_type": "code",
   "execution_count": 19,
   "metadata": {
    "tags": []
   },
   "outputs": [
    {
     "output_type": "stream",
     "name": "stdout",
     "text": "1 2 3 4 5 6 7 8 9 10  \n \n-10 -9 -8 -7 -6 -5 -4 -3 -2 -1 0 1 2 3 4 5 6 7 8 9 10  \n \n10 9 8 7 6 5 4 3 2 1 0"
    }
   ],
   "source": [
    "# Uppgift 1 #\n",
    "\n",
    "for i in range(1,11):\n",
    "    print(i, end =\" \")\n",
    "\n",
    "print(\" \\n \")\n",
    "\n",
    "for j in range(-10,11):\n",
    "    print(j, end =\" \")\n",
    "\n",
    "print(\" \\n \")\n",
    "\n",
    "for o in range(10,-1,-1):\n",
    "    print(o, end =\" \")\n"
   ]
  },
  {
   "cell_type": "code",
   "execution_count": null,
   "metadata": {},
   "outputs": [],
   "source": [
    "# Uppgift 2 #\n",
    "\n",
    "print(\"OOF\")"
   ]
  },
  {
   "cell_type": "code",
   "execution_count": 23,
   "metadata": {
    "tags": []
   },
   "outputs": [
    {
     "output_type": "stream",
     "name": "stdout",
     "text": "1 + 2 + 3 + 4 ... + 99 + 100 = 5050\n"
    }
   ],
   "source": [
    "# Uppgift 3 #\n",
    "\n",
    "num = 0\n",
    "\n",
    "for i in range(101):\n",
    "    num += i \n",
    "\n",
    "print(f\"1 + 2 + 3 + 4 ... + 99 + 100 = {num}\")\n"
   ]
  },
  {
   "cell_type": "code",
   "execution_count": 32,
   "metadata": {
    "tags": []
   },
   "outputs": [
    {
     "output_type": "stream",
     "name": "stdout",
     "text": "1 + 3 + 5 ... + 97 + 99 = 2500\n"
    }
   ],
   "source": [
    "# Uppgift 4 #\n",
    "\n",
    "num = 0\n",
    "\n",
    "for i in range(1,101,2):\n",
    "    num += i\n",
    "\n",
    "print(f\"1 + 3 + 5 ... + 97 + 99 = {num}\")\n"
   ]
  },
  {
   "cell_type": "code",
   "execution_count": 41,
   "metadata": {
    "tags": []
   },
   "outputs": [
    {
     "output_type": "stream",
     "name": "stdout",
     "text": "0 5 10 15 20 25 30 35 40 45 50  \n \n"
    },
    {
     "output_type": "error",
     "ename": "TypeError",
     "evalue": "'str' object cannot be interpreted as an integer",
     "traceback": [
      "\u001b[1;31m---------------------------------------------------------------------------\u001b[0m",
      "\u001b[1;31mTypeError\u001b[0m                                 Traceback (most recent call last)",
      "\u001b[1;32m<ipython-input-41-a81292fe4e94>\u001b[0m in \u001b[0;36m<module>\u001b[1;34m\u001b[0m\n\u001b[0;32m     10\u001b[0m \u001b[0mslut\u001b[0m \u001b[1;33m=\u001b[0m \u001b[1;33m(\u001b[0m\u001b[0minput\u001b[0m\u001b[1;33m(\u001b[0m\u001b[1;34m\"Ange vart du vill att din tabel ska sluta: \"\u001b[0m\u001b[1;33m)\u001b[0m\u001b[1;33m)\u001b[0m\u001b[1;33m\u001b[0m\u001b[1;33m\u001b[0m\u001b[0m\n\u001b[0;32m     11\u001b[0m \u001b[1;33m\u001b[0m\u001b[0m\n\u001b[1;32m---> 12\u001b[1;33m \u001b[1;32mfor\u001b[0m \u001b[0mi\u001b[0m \u001b[1;32min\u001b[0m \u001b[0mrange\u001b[0m\u001b[1;33m(\u001b[0m\u001b[0mstart\u001b[0m\u001b[1;33m,\u001b[0m\u001b[0mslut\u001b[0m\u001b[1;33m,\u001b[0m\u001b[0mTabel\u001b[0m\u001b[1;33m)\u001b[0m\u001b[1;33m:\u001b[0m\u001b[1;33m\u001b[0m\u001b[1;33m\u001b[0m\u001b[0m\n\u001b[0m\u001b[0;32m     13\u001b[0m     \u001b[0mprint\u001b[0m\u001b[1;33m(\u001b[0m\u001b[0mi\u001b[0m\u001b[1;33m,\u001b[0m \u001b[0mend\u001b[0m \u001b[1;33m=\u001b[0m \u001b[1;34m\" \"\u001b[0m\u001b[1;33m)\u001b[0m\u001b[1;33m\u001b[0m\u001b[1;33m\u001b[0m\u001b[0m\n",
      "\u001b[1;31mTypeError\u001b[0m: 'str' object cannot be interpreted as an integer"
     ]
    }
   ],
   "source": [
    "# Uppgift 5 #\n",
    "\n",
    "for i in range(0,51,5):\n",
    "    print(i, end = \" \")\n",
    "\n",
    "print(\" \\n \")\n",
    "\n",
    "Tabel = (input(\"Ange en gångertabel du vill se: \"))\n",
    "start = (input(\"Ange vart du vill att din tabel ska börja: \"))\n",
    "slut = (input(\"Ange vart du vill att din tabel ska sluta: \"))\n",
    "\n",
    "for i in range(start,slut,Tabel):\n",
    "    print(i, end = \" \")"
   ]
  },
  {
   "cell_type": "code",
   "execution_count": null,
   "metadata": {},
   "outputs": [],
   "source": [
    "# Uppgift 6 #\n",
    "\n"
   ]
  }
 ]
}