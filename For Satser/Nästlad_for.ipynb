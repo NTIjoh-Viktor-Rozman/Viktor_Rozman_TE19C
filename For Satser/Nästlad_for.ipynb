{
 "metadata": {
  "language_info": {
   "codemirror_mode": {
    "name": "ipython",
    "version": 3
   },
   "file_extension": ".py",
   "mimetype": "text/x-python",
   "name": "python",
   "nbconvert_exporter": "python",
   "pygments_lexer": "ipython3",
   "version": "3.8.3-final"
  },
  "orig_nbformat": 2,
  "kernelspec": {
   "name": "Python 3.8.3 64-bit ('base': conda)",
   "display_name": "Python 3.8.3 64-bit ('base': conda)",
   "metadata": {
    "interpreter": {
     "hash": "e0de52fefc1eea06e47954a3c1afb036d972cd8830d7db62b0dad4282e9b357f"
    }
   }
  }
 },
 "nbformat": 4,
 "nbformat_minor": 2,
 "cells": [
  {
   "cell_type": "code",
   "execution_count": 35,
   "metadata": {
    "tags": []
   },
   "outputs": [
    {
     "output_type": "error",
     "ename": "SyntaxError",
     "evalue": "invalid syntax (&lt;ipython-input-35-07ff700d8aad&gt;, line 5)",
     "traceback": [
      "\u001b[1;36m  File \u001b[1;32m&quot;&lt;ipython-input-35-07ff700d8aad&gt;&quot;\u001b[1;36m, line \u001b[1;32m5\u001b[0m\n\u001b[1;33m    while k ==&gt; x:\u001b[0m\n\u001b[1;37m              ^\u001b[0m\n\u001b[1;31mSyntaxError\u001b[0m\u001b[1;31m:\u001b[0m invalid syntax\n"
     ]
    }
   ],
   "source": [
    "x = 0\n",
    "\n",
    "for i in range (0,11):\n",
    "    for j in range (0,11):\n",
    "        print(f\"{x}\", end = \" \")\n",
    "    print(j)"
   ]
  },
  {
   "cell_type": "code",
   "execution_count": null,
   "metadata": {},
   "outputs": [],
   "source": [
    "x = 1\n",
    "\n",
    "for i in range (0,11):\n",
    "    for j in range (0,11):\n",
    "        print(f\"{x}\", end = \" \")\n",
    "    print(j)"
   ]
  }
 ]
}