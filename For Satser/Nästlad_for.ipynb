{
 "metadata": {
  "language_info": {
   "codemirror_mode": {
    "name": "ipython",
    "version": 3
   },
   "file_extension": ".py",
   "mimetype": "text/x-python",
   "name": "python",
   "nbconvert_exporter": "python",
   "pygments_lexer": "ipython3",
   "version": "3.8.3-final"
  },
  "orig_nbformat": 2,
  "kernelspec": {
   "name": "Python 3.8.3 64-bit ('base': conda)",
   "display_name": "Python 3.8.3 64-bit ('base': conda)",
   "metadata": {
    "interpreter": {
     "hash": "e0de52fefc1eea06e47954a3c1afb036d972cd8830d7db62b0dad4282e9b357f"
    }
   }
  }
 },
 "nbformat": 4,
 "nbformat_minor": 2,
 "cells": [
  {
   "cell_type": "code",
   "execution_count": 1,
   "metadata": {
    "tags": []
   },
   "outputs": [
    {
     "output_type": "stream",
     "name": "stdout",
     "text": "0 0 0 0 0 0 0 0 0 0 0 10\n0 0 0 0 0 0 0 0 0 0 0 10\n0 0 0 0 0 0 0 0 0 0 0 10\n0 0 0 0 0 0 0 0 0 0 0 10\n0 0 0 0 0 0 0 0 0 0 0 10\n0 0 0 0 0 0 0 0 0 0 0 10\n0 0 0 0 0 0 0 0 0 0 0 10\n0 0 0 0 0 0 0 0 0 0 0 10\n0 0 0 0 0 0 0 0 0 0 0 10\n0 0 0 0 0 0 0 0 0 0 0 10\n0 0 0 0 0 0 0 0 0 0 0 10\n"
    }
   ],
   "source": [
    "x = 0\n",
    "\n",
    "for i in range (0,11):\n",
    "    for j in range (0,11):\n",
    "        print(f\"{x}\", end = \" \")\n",
    "    print(j)\n"
   ]
  },
  {
   "cell_type": "code",
   "execution_count": 15,
   "metadata": {
    "tags": []
   },
   "outputs": [
    {
     "output_type": "stream",
     "name": "stdout",
     "text": "0 0 0 0 0 0 0 0 0 0 0 \n0 1 2 3 4 5 6 7 8 9 10 \n0 2 4 6 8 10 12 14 16 18 20 \n0 3 6 9 12 15 18 21 24 27 30 \n0 4 8 12 16 20 24 28 32 36 40 \n0 5 10 15 20 25 30 35 40 45 50 \n0 6 12 18 24 30 36 42 48 54 60 \n0 7 14 21 28 35 42 49 56 63 70 \n0 8 16 24 32 40 48 56 64 72 80 \n0 9 18 27 36 45 54 63 72 81 90 \n0 10 20 30 40 50 60 70 80 90 100 \n"
    }
   ],
   "source": [
    "\n",
    "for i in range (0,11):\n",
    "    for j in range (0,11):\n",
    "        j *= i\n",
    "        print(f\"{j}\", end = \" \")\n",
    "    print()"
   ]
  }
 ]
}