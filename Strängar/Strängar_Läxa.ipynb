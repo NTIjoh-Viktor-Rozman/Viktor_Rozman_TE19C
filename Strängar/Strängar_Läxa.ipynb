{
 "metadata": {
  "language_info": {
   "codemirror_mode": {
    "name": "ipython",
    "version": 3
   },
   "file_extension": ".py",
   "mimetype": "text/x-python",
   "name": "python",
   "nbconvert_exporter": "python",
   "pygments_lexer": "ipython3",
   "version": "3.8.3-final"
  },
  "orig_nbformat": 2,
  "kernelspec": {
   "name": "python3",
   "display_name": "Python 3"
  }
 },
 "nbformat": 4,
 "nbformat_minor": 2,
 "cells": [
  {
   "cell_type": "code",
   "execution_count": 5,
   "metadata": {},
   "outputs": [
    {
     "output_type": "stream",
     "name": "stdout",
     "text": [
      "Ditt namn Viktor har 6 bokstäver i sig.\n"
     ]
    }
   ],
   "source": [
    "# Uppgift 1 #\n",
    "\n",
    "namn = input(\"Ange ditt namn: \")\n",
    "\n",
    "print(f\"Ditt namn {namn} har {len(namn)} bokstäver i sig.\")\n"
   ]
  },
  {
   "cell_type": "code",
   "execution_count": null,
   "metadata": {},
   "outputs": [],
   "source": [
    "# Uppgift 2 #\n",
    "\n",
    "nyord = \" \""
   ]
  }
 ]
}